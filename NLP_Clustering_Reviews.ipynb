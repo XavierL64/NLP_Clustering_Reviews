{
 "cells": [
  {
   "cell_type": "code",
   "execution_count": 38,
   "id": "48172b7a-d771-435b-a6fe-c99134ac5eba",
   "metadata": {
    "executionCancelledAt": null,
    "executionTime": 11,
    "lastExecutedAt": 1730356775044,
    "lastExecutedByKernel": "4b3cd451-e103-4a0a-a8e3-189505745de0",
    "lastScheduledRunId": null,
    "lastSuccessfullyExecutedCode": "# Import necessary libraries\nimport pandas as pd\nimport numpy as np\nfrom sklearn.feature_extraction.text import TfidfVectorizer\nfrom sklearn.cluster import KMeans\nimport nltk\nfrom nltk.corpus import stopwords\nfrom nltk.tokenize import word_tokenize"
   },
   "outputs": [],
   "source": [
    "# Import necessary libraries\n",
    "import pandas as pd\n",
    "import numpy as np\n",
    "from sklearn.feature_extraction.text import TfidfVectorizer\n",
    "from sklearn.cluster import KMeans\n",
    "import nltk\n",
    "from nltk.corpus import stopwords\n",
    "from nltk.tokenize import word_tokenize"
   ]
  },
  {
   "cell_type": "code",
   "execution_count": 39,
   "id": "8a6577b0-9915-43c7-b1db-b0c106a71cca",
   "metadata": {
    "executionCancelledAt": null,
    "executionTime": 48,
    "lastExecutedAt": 1730356775092,
    "lastExecutedByKernel": "4b3cd451-e103-4a0a-a8e3-189505745de0",
    "lastScheduledRunId": null,
    "lastSuccessfullyExecutedCode": "# Download necessary files from NLTK:\n# punkt -> Tokenization\n# stopwords -> Stop words removal\nnltk.download(\"punkt\")\nnltk.download(\"stopwords\")",
    "outputsMetadata": {
     "0": {
      "height": 101,
      "type": "stream"
     }
    }
   },
   "outputs": [
    {
     "name": "stderr",
     "output_type": "stream",
     "text": [
      "[nltk_data] Downloading package punkt to /home/repl/nltk_data...\n",
      "[nltk_data]   Package punkt is already up-to-date!\n",
      "[nltk_data] Downloading package stopwords to /home/repl/nltk_data...\n",
      "[nltk_data]   Package stopwords is already up-to-date!\n"
     ]
    },
    {
     "data": {
      "text/plain": [
       "True"
      ]
     },
     "execution_count": 39,
     "metadata": {},
     "output_type": "execute_result"
    }
   ],
   "source": [
    "# Download necessary files from NLTK:\n",
    "# punkt -> Tokenization\n",
    "# stopwords -> Stop words removal\n",
    "nltk.download(\"punkt\")\n",
    "nltk.download(\"stopwords\")"
   ]
  },
  {
   "cell_type": "code",
   "execution_count": 40,
   "id": "7fbf3e3f-0526-4f53-908e-0bf9913f213d",
   "metadata": {
    "executionCancelledAt": null,
    "executionTime": 52,
    "lastExecutedAt": 1730356775144,
    "lastExecutedByKernel": "4b3cd451-e103-4a0a-a8e3-189505745de0",
    "lastScheduledRunId": null,
    "lastSuccessfullyExecutedCode": "# Load the reviews dataset and preview it\nreviews = pd.read_csv(\"reviews.csv\")\nreviews.head()",
    "outputsMetadata": {
     "0": {
      "height": 222,
      "type": "dataFrame"
     }
    }
   },
   "outputs": [
    {
     "data": {
      "application/com.datacamp.data-table.v2+json": {
       "table": {
        "data": {
         "content": [
          "I cannot open the app anymore",
          "I have been begging for a refund from this app for over a month and nobody is replying me",
          "Very costly for the premium version (approx Indian Rupees 910 per year). Better to download the premium version of this app from apkmos website and use it. Microsoft to do list app is far more better.",
          "Used to keep me organized, but all the 2020 UPDATES have made a mess of things !!! Y cudn't u leave well enuf alone ??? Guess ur techies feel the need to keep making changes to justify continuing to collect their salary !!! 🤤🤤🤤",
          "Dan Birthday Oct 28"
         ],
         "index": [
          0,
          1,
          2,
          3,
          4
         ],
         "score": [
          1,
          1,
          1,
          1,
          1
         ]
        },
        "schema": {
         "fields": [
          {
           "name": "index",
           "type": "integer"
          },
          {
           "name": "content",
           "type": "string"
          },
          {
           "name": "score",
           "type": "integer"
          }
         ],
         "pandas_version": "1.4.0",
         "primaryKey": [
          "index"
         ]
        }
       },
       "total_rows": 5,
       "truncation_type": null
      },
      "text/html": [
       "<div>\n",
       "<style scoped>\n",
       "    .dataframe tbody tr th:only-of-type {\n",
       "        vertical-align: middle;\n",
       "    }\n",
       "\n",
       "    .dataframe tbody tr th {\n",
       "        vertical-align: top;\n",
       "    }\n",
       "\n",
       "    .dataframe thead th {\n",
       "        text-align: right;\n",
       "    }\n",
       "</style>\n",
       "<table border=\"1\" class=\"dataframe\">\n",
       "  <thead>\n",
       "    <tr style=\"text-align: right;\">\n",
       "      <th></th>\n",
       "      <th>content</th>\n",
       "      <th>score</th>\n",
       "    </tr>\n",
       "  </thead>\n",
       "  <tbody>\n",
       "    <tr>\n",
       "      <th>0</th>\n",
       "      <td>I cannot open the app anymore</td>\n",
       "      <td>1</td>\n",
       "    </tr>\n",
       "    <tr>\n",
       "      <th>1</th>\n",
       "      <td>I have been begging for a refund from this app...</td>\n",
       "      <td>1</td>\n",
       "    </tr>\n",
       "    <tr>\n",
       "      <th>2</th>\n",
       "      <td>Very costly for the premium version (approx In...</td>\n",
       "      <td>1</td>\n",
       "    </tr>\n",
       "    <tr>\n",
       "      <th>3</th>\n",
       "      <td>Used to keep me organized, but all the 2020 UP...</td>\n",
       "      <td>1</td>\n",
       "    </tr>\n",
       "    <tr>\n",
       "      <th>4</th>\n",
       "      <td>Dan Birthday Oct 28</td>\n",
       "      <td>1</td>\n",
       "    </tr>\n",
       "  </tbody>\n",
       "</table>\n",
       "</div>"
      ],
      "text/plain": [
       "                                             content  score\n",
       "0                      I cannot open the app anymore      1\n",
       "1  I have been begging for a refund from this app...      1\n",
       "2  Very costly for the premium version (approx In...      1\n",
       "3  Used to keep me organized, but all the 2020 UP...      1\n",
       "4                                Dan Birthday Oct 28      1"
      ]
     },
     "execution_count": 40,
     "metadata": {},
     "output_type": "execute_result"
    }
   ],
   "source": [
    "# Load the reviews dataset and preview it\n",
    "reviews = pd.read_csv(\"reviews.csv\")\n",
    "reviews.head()"
   ]
  },
  {
   "cell_type": "code",
   "execution_count": 41,
   "id": "3b2697f7-e85a-4a11-bfbb-59af07b89c75",
   "metadata": {
    "executionCancelledAt": null,
    "executionTime": 52,
    "lastExecutedAt": 1730356775196,
    "lastExecutedByKernel": "4b3cd451-e103-4a0a-a8e3-189505745de0",
    "lastScheduledRunId": null,
    "lastSuccessfullyExecutedCode": "# Filter the dataframe for negative reviews\nreviews_negative = reviews[reviews[\"score\"] <= 2]['content']"
   },
   "outputs": [],
   "source": [
    "# Filter the dataframe for negative reviews\n",
    "reviews_negative = reviews[reviews[\"score\"] <= 2]['content']"
   ]
  },
  {
   "cell_type": "code",
   "execution_count": 42,
   "id": "02ce6912-8594-4ad4-a9a8-d41877820546",
   "metadata": {
    "executionCancelledAt": null,
    "executionTime": 48,
    "lastExecutedAt": 1730356775244,
    "lastExecutedByKernel": "4b3cd451-e103-4a0a-a8e3-189505745de0",
    "lastScheduledRunId": null,
    "lastSuccessfullyExecutedCode": "# Create a function that tokenizes reviews and removes non-alpha characters and stopwords\ndef preprocess_text(text):\n    tokens = word_tokenize(text)\n    filtered_tokens = [\n        token \n        for token in tokens \n        if token.isalpha() and token.lower() not in stopwords.words('english')\n    ]\n    return \" \".join(filtered_tokens)"
   },
   "outputs": [],
   "source": [
    "# Create a function that tokenizes reviews and removes non-alpha characters and stopwords\n",
    "def preprocess_text(text):\n",
    "    tokens = word_tokenize(text)\n",
    "    filtered_tokens = [\n",
    "        token \n",
    "        for token in tokens \n",
    "        if token.isalpha() and token.lower() not in stopwords.words('english')\n",
    "    ]\n",
    "    return \" \".join(filtered_tokens)"
   ]
  },
  {
   "cell_type": "code",
   "execution_count": 43,
   "id": "2923594b-1155-4f28-be36-619fbc98f3f2",
   "metadata": {
    "executionCancelledAt": null,
    "executionTime": 18096,
    "lastExecutedAt": 1730356793340,
    "lastExecutedByKernel": "4b3cd451-e103-4a0a-a8e3-189505745de0",
    "lastScheduledRunId": null,
    "lastSuccessfullyExecutedCode": "# Call function on negative reviews\nreviews_negative_filtered = reviews_negative.apply(preprocess_text)"
   },
   "outputs": [],
   "source": [
    "# Call function on negative reviews\n",
    "reviews_negative_filtered = reviews_negative.apply(preprocess_text)"
   ]
  },
  {
   "cell_type": "code",
   "execution_count": 44,
   "id": "2897adcb-43c2-495b-b5c1-22d823b3ef1a",
   "metadata": {
    "executionCancelledAt": null,
    "executionTime": 51,
    "lastExecutedAt": 1730356793392,
    "lastExecutedByKernel": "4b3cd451-e103-4a0a-a8e3-189505745de0",
    "lastScheduledRunId": null,
    "lastSuccessfullyExecutedCode": "# Store result in a dataframe\npreprocessed_reviews = pd.DataFrame(data={'review': reviews_negative_filtered})",
    "outputsMetadata": {
     "0": {
      "height": 543,
      "type": "dataFrame"
     }
    }
   },
   "outputs": [],
   "source": [
    "# Store result in a dataframe\n",
    "preprocessed_reviews = pd.DataFrame(data={'review': reviews_negative_filtered})"
   ]
  },
  {
   "cell_type": "code",
   "execution_count": 45,
   "id": "23e64115-aa71-4644-9e84-f0bf2ff26459",
   "metadata": {
    "executionCancelledAt": null,
    "executionTime": 74,
    "lastExecutedAt": 1730356793466,
    "lastExecutedByKernel": "4b3cd451-e103-4a0a-a8e3-189505745de0",
    "lastScheduledRunId": null,
    "lastSuccessfullyExecutedCode": "# Vectorise reviews using TF-IDF\nvectorizer = TfidfVectorizer()\ntfidf_matrix = vectorizer.fit_transform(preprocessed_reviews['review'])"
   },
   "outputs": [],
   "source": [
    "# Vectorise reviews using TF-IDF\n",
    "vectorizer = TfidfVectorizer()\n",
    "tfidf_matrix = vectorizer.fit_transform(preprocessed_reviews['review'])"
   ]
  },
  {
   "cell_type": "code",
   "execution_count": 46,
   "id": "2007865e-afab-48f1-ad8e-1d110c966bf1",
   "metadata": {
    "executionCancelledAt": null,
    "executionTime": 237,
    "lastExecutedAt": 1730356793704,
    "lastExecutedByKernel": "4b3cd451-e103-4a0a-a8e3-189505745de0",
    "lastScheduledRunId": null,
    "lastSuccessfullyExecutedCode": "# Apply K-means clustering to the TF-IDF matrix to group the reviews into five categories\nclust_kmeans = KMeans(n_clusters=5, random_state=42)\npred_labels = clust_kmeans.fit_predict(tfidf_matrix)"
   },
   "outputs": [],
   "source": [
    "# Apply K-means clustering to the TF-IDF matrix to group the reviews into five categories\n",
    "clust_kmeans = KMeans(n_clusters=5, random_state=42)\n",
    "pred_labels = clust_kmeans.fit_predict(tfidf_matrix)"
   ]
  },
  {
   "cell_type": "code",
   "execution_count": 47,
   "id": "bec6e8ca-8ca9-4b77-adab-7ba31041eacc",
   "metadata": {
    "executionCancelledAt": null,
    "executionTime": 51,
    "lastExecutedAt": 1730356793756,
    "lastExecutedByKernel": "4b3cd451-e103-4a0a-a8e3-189505745de0",
    "lastScheduledRunId": null,
    "lastSuccessfullyExecutedCode": "# Store predicted labels as categories in the dataframe\ncategories = pred_labels.tolist()\npreprocessed_reviews[\"category\"] = categories"
   },
   "outputs": [],
   "source": [
    "# Store predicted labels as categories in the dataframe\n",
    "categories = pred_labels.tolist()\n",
    "preprocessed_reviews[\"category\"] = categories"
   ]
  },
  {
   "cell_type": "code",
   "execution_count": 48,
   "id": "3c364712-c5de-4ef5-83fe-f2c4a6e57095",
   "metadata": {
    "executionCancelledAt": null,
    "executionTime": 51,
    "lastExecutedAt": 1730356793808,
    "lastExecutedByKernel": "4b3cd451-e103-4a0a-a8e3-189505745de0",
    "lastScheduledRunId": null,
    "lastSuccessfullyExecutedCode": "# Get the feature names (terms) from the vectorizer\nterms = vectorizer.get_feature_names_out()",
    "outputsMetadata": {
     "0": {
      "height": 266,
      "type": "dataFrame"
     }
    }
   },
   "outputs": [],
   "source": [
    "# Get the feature names (terms) from the vectorizer\n",
    "terms = vectorizer.get_feature_names_out()"
   ]
  },
  {
   "cell_type": "code",
   "execution_count": 49,
   "id": "c9b69c0b-fc8a-44d4-8e1a-ebbf44afa5be",
   "metadata": {
    "executionCancelledAt": null,
    "executionTime": 53,
    "lastExecutedAt": 1730356793861,
    "lastExecutedByKernel": "4b3cd451-e103-4a0a-a8e3-189505745de0",
    "lastScheduledRunId": null,
    "lastSuccessfullyExecutedCode": "# Find the most frequent term for each cluster label\ntopic_terms_list = []\n\nfor cluster in range(clust_kmeans.n_clusters):\n    cluster_indices = [i for i, label in enumerate(categories) if label == cluster]\n    cluster_tfidf_sum = tfidf_matrix[cluster_indices].sum(axis=0)\n    cluster_term_freq = np.array(cluster_tfidf_sum).ravel()\n    top_term_index = cluster_term_freq.argsort()[::-1][0]\n    topic_terms_list.append(\n        {\n        'category': cluster,\n        'term': terms[top_term_index],\n        'frequency': cluster_term_freq[top_term_index]\n        }\n    ) "
   },
   "outputs": [],
   "source": [
    "# Find the most frequent term for each cluster label\n",
    "topic_terms_list = []\n",
    "\n",
    "for cluster in range(clust_kmeans.n_clusters):\n",
    "    cluster_indices = [i for i, label in enumerate(categories) if label == cluster]\n",
    "    cluster_tfidf_sum = tfidf_matrix[cluster_indices].sum(axis=0)\n",
    "    cluster_term_freq = np.array(cluster_tfidf_sum).ravel()\n",
    "    top_term_index = cluster_term_freq.argsort()[::-1][0]\n",
    "    topic_terms_list.append(\n",
    "        {\n",
    "        'category': cluster,\n",
    "        'term': terms[top_term_index],\n",
    "        'frequency': cluster_term_freq[top_term_index]\n",
    "        }\n",
    "    ) "
   ]
  },
  {
   "cell_type": "code",
   "execution_count": 50,
   "id": "96dace6d-641a-42eb-b727-23b006ea9ffd",
   "metadata": {
    "executionCancelledAt": null,
    "executionTime": 47,
    "lastExecutedAt": 1730356793908,
    "lastExecutedByKernel": "4b3cd451-e103-4a0a-a8e3-189505745de0",
    "lastScheduledRunId": null,
    "lastSuccessfullyExecutedCode": "# Store results in a dataframe\ntopic_terms = pd.DataFrame(topic_terms_list)"
   },
   "outputs": [],
   "source": [
    "# Store results in a dataframe\n",
    "topic_terms = pd.DataFrame(topic_terms_list)"
   ]
  },
  {
   "cell_type": "code",
   "execution_count": 51,
   "id": "c76e606c-6f06-4bc9-a1bd-4ceaedf6fb4c",
   "metadata": {
    "executionCancelledAt": null,
    "executionTime": 52,
    "lastExecutedAt": 1730356793960,
    "lastExecutedByKernel": "4b3cd451-e103-4a0a-a8e3-189505745de0",
    "lastScheduledRunId": null,
    "lastSuccessfullyExecutedCode": "print(topic_terms)",
    "outputsMetadata": {
     "0": {
      "height": 143,
      "type": "stream"
     }
    }
   },
   "outputs": [
    {
     "name": "stdout",
     "output_type": "stream",
     "text": [
      "   category      term   frequency\n",
      "0         0   account   50.977244\n",
      "1         1   version   67.720235\n",
      "2         2  calendar   76.045613\n",
      "3         3       app  182.736681\n",
      "4         4      good   37.173626\n"
     ]
    }
   ],
   "source": [
    "print(topic_terms)"
   ]
  }
 ],
 "metadata": {
  "colab": {
   "name": "Welcome to DataCamp Workspaces.ipynb",
   "provenance": []
  },
  "editor": "DataLab",
  "kernelspec": {
   "display_name": "Python 3 (ipykernel)",
   "language": "python",
   "name": "python3"
  },
  "language_info": {
   "codemirror_mode": {
    "name": "ipython",
    "version": 3
   },
   "file_extension": ".py",
   "mimetype": "text/x-python",
   "name": "python",
   "nbconvert_exporter": "python",
   "pygments_lexer": "ipython3",
   "version": "3.11.5"
  }
 },
 "nbformat": 4,
 "nbformat_minor": 5
}
